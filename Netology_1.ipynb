{
 "cells": [
  {
   "cell_type": "code",
   "execution_count": 11,
   "id": "87b01698",
   "metadata": {},
   "outputs": [
    {
     "name": "stdout",
     "output_type": "stream",
     "text": [
      "\n",
      "0 1 1 2 3 5 8 13 21 34 55 89 144 233 377 610 987 1597 2584 4181 6765 10946 17711 28657 46368 75025 "
     ]
    }
   ],
   "source": [
    "# Python 3: Fibonacci series up to n\n",
    "def fib(n):\n",
    "    a, b = 0, 1\n",
    "    while a < n:\n",
    "        print(a, end=' ')\n",
    "        a, b = b, a+b\n",
    "    \n",
    "print()\n",
    "fib(100000)"
   ]
  },
  {
   "cell_type": "markdown",
   "id": "3ec914d4",
   "metadata": {},
   "source": [
    "# Some big changes!!!"
   ]
  },
  {
   "cell_type": "code",
   "execution_count": 1,
   "id": "860b036d",
   "metadata": {
    "scrolled": true
   },
   "outputs": [
    {
     "name": "stdout",
     "output_type": "stream",
     "text": [
      "Hello, World!\n"
     ]
    }
   ],
   "source": [
    "print('Hello, World!')"
   ]
  },
  {
   "cell_type": "markdown",
   "id": "8bd1969e",
   "metadata": {},
   "source": [
    "Попрактикуемся\n",
    "\n",
    "Имеется структура данных cook_book, в которой хранится информация об ингредиентах блюд и их количестве в расчете на одну порцию и переменная, в которой хранится количество людей, на которых необходимо приготовить данные блюда:"
   ]
  },
  {
   "cell_type": "code",
   "execution_count": 3,
   "id": "be74ca68",
   "metadata": {},
   "outputs": [],
   "source": [
    "cook_book = [\n",
    "  ['салат',\n",
    "      [\n",
    "        ['картофель', 100, 'гр.'],\n",
    "        ['морковь', 50, 'гр.'],\n",
    "        ['огурцы', 50, 'гр.'],\n",
    "        ['горошек', 30, 'гр.'],\n",
    "        ['майонез', 70, 'мл.'],\n",
    "      ]\n",
    "  ],\n",
    "  ['пицца',  \n",
    "      [\n",
    "        ['сыр', 50, 'гр.'],\n",
    "        ['томаты', 50, 'гр.'],\n",
    "        ['тесто', 100, 'гр.'],\n",
    "        ['бекон', 30, 'гр.'],\n",
    "        ['колбаса', 30, 'гр.'],\n",
    "        ['грибы', 20, 'гр.'],\n",
    "      ],\n",
    "  ],\n",
    "  ['фруктовый десерт',\n",
    "      [\n",
    "        ['хурма', 60, 'гр.'],\n",
    "        ['киви', 60, 'гр.'],\n",
    "        ['творог', 60, 'гр.'],\n",
    "        ['сахар', 10, 'гр.'],\n",
    "        ['мед', 50, 'мл.'],  \n",
    "      ]\n",
    "  ]\n",
    "]\n"
   ]
  },
  {
   "cell_type": "code",
   "execution_count": 4,
   "id": "df385b2a",
   "metadata": {},
   "outputs": [],
   "source": [
    "person = 5"
   ]
  },
  {
   "cell_type": "markdown",
   "id": "1ec4a715",
   "metadata": {},
   "source": [
    "Необходимо вывести пользователю список покупок необходимого количества ингредиентов для приготовления блюд на определенное число персон в следующем виде:"
   ]
  },
  {
   "cell_type": "code",
   "execution_count": null,
   "id": "5f6eb88d",
   "metadata": {},
   "outputs": [],
   "source": [
    "Салат:\n",
    "картофель, 500гр.\n",
    "морковь, 250гр.\n",
    "огурцы, 250гр.\n",
    "горошек, 150гр.\n",
    "майонез, 350мл.\n",
    "\n",
    "Пицца:\n",
    "сыр, 250гр.\n",
    "томаты, 250гр.\n",
    "тесто, 500гр.\n",
    "бекон, 150гр.\n",
    "колбаса, 150гр.\n",
    "грибы, 100гр.\n",
    "\n",
    "Фруктовый десерт:\n",
    "хурма, 300гр.\n",
    "киви, 300гр.\n",
    "творог, 300гр.\n",
    "сахар, 50гр.\n",
    "мед, 250мл."
   ]
  },
  {
   "cell_type": "code",
   "execution_count": null,
   "id": "535892fe",
   "metadata": {},
   "outputs": [],
   "source": []
  },
  {
   "cell_type": "code",
   "execution_count": null,
   "id": "30d5b1e7",
   "metadata": {},
   "outputs": [],
   "source": [
    "Var.#1"
   ]
  },
  {
   "cell_type": "code",
   "execution_count": 20,
   "id": "1fcb4763",
   "metadata": {},
   "outputs": [
    {
     "name": "stdout",
     "output_type": "stream",
     "text": [
      "Салат:\n",
      "картофель, 500гр.\n",
      "морковь, 250гр.\n",
      "огурцы, 250гр.\n",
      "горошек, 150гр.\n",
      "майонез, 350мл.\n",
      "\n",
      "\n",
      "Пицца:\n",
      "сыр, 250гр.\n",
      "томаты, 250гр.\n",
      "тесто, 500гр.\n",
      "бекон, 150гр.\n",
      "колбаса, 150гр.\n",
      "грибы, 100гр.\n",
      "\n",
      "\n",
      "Фруктовый десерт:\n",
      "хурма, 300гр.\n",
      "киви, 300гр.\n",
      "творог, 300гр.\n",
      "сахар, 50гр.\n",
      "мед, 250мл.\n"
     ]
    }
   ],
   "source": [
    "a = cook_book[0][0]\n",
    "a1 = cook_book[0][1][0][1]\n",
    "a2 = cook_book[0][1][1][1]\n",
    "a3 = cook_book[0][1][2][1]\n",
    "a4 = cook_book[0][1][3][1]\n",
    "a5 = cook_book[0][1][4][1]\n",
    "\n",
    "print(a.capitalize(), end=':\\n')\n",
    "print(f\"{cook_book[0][1][0][0]}{','} {a1 * person}{cook_book[0][1][0][2]}\")\n",
    "print(f\"{cook_book[0][1][1][0]}{','} {a2 * person}{cook_book[0][1][1][2]}\")\n",
    "print(f\"{cook_book[0][1][2][0]}{','} {a3 * person}{cook_book[0][1][2][2]}\")\n",
    "print(f\"{cook_book[0][1][3][0]}{','} {a4 * person}{cook_book[0][1][3][2]}\")\n",
    "print(f\"{cook_book[0][1][4][0]}{','} {a5 * person}{cook_book[0][1][4][2]}\")\n",
    "print('\\n')\n",
    "\n",
    "b = cook_book[1][0]\n",
    "b1 = cook_book[1][1][0][1]\n",
    "b2 = cook_book[1][1][1][1]\n",
    "b3 = cook_book[1][1][2][1]\n",
    "b4 = cook_book[1][1][3][1]\n",
    "b5 = cook_book[1][1][4][1]\n",
    "b6 = cook_book[1][1][5][1]\n",
    "\n",
    "print(b.capitalize(), end=':\\n')\n",
    "print(f\"{cook_book[1][1][0][0]}{','} {b1 * person}{cook_book[1][1][0][2]}\")\n",
    "print(f\"{cook_book[1][1][1][0]}{','} {b2 * person}{cook_book[1][1][1][2]}\")\n",
    "print(f\"{cook_book[1][1][2][0]}{','} {b3 * person}{cook_book[1][1][2][2]}\")\n",
    "print(f\"{cook_book[1][1][3][0]}{','} {b4 * person}{cook_book[1][1][3][2]}\")\n",
    "print(f\"{cook_book[1][1][4][0]}{','} {b5 * person}{cook_book[1][1][4][2]}\")\n",
    "print(f\"{cook_book[1][1][5][0]}{','} {b6 * person}{cook_book[1][1][5][2]}\")\n",
    "print('\\n')\n",
    "\n",
    "c = cook_book[2][0]\n",
    "c1 = cook_book[2][1][0][1]\n",
    "c2 = cook_book[2][1][1][1]\n",
    "c3 = cook_book[2][1][2][1]\n",
    "c4 = cook_book[2][1][3][1]\n",
    "c5 = cook_book[2][1][4][1]\n",
    "\n",
    "print(c.capitalize(), end=':\\n')\n",
    "print(f\"{cook_book[2][1][0][0]}{','} {c1 * person}{cook_book[2][1][0][2]}\")\n",
    "print(f\"{cook_book[2][1][1][0]}{','} {c2 * person}{cook_book[2][1][1][2]}\")\n",
    "print(f\"{cook_book[2][1][2][0]}{','} {c3 * person}{cook_book[2][1][2][2]}\")\n",
    "print(f\"{cook_book[2][1][3][0]}{','} {c4 * person}{cook_book[2][1][3][2]}\")\n",
    "print(f\"{cook_book[2][1][4][0]}{','} {c5 * person}{cook_book[2][1][4][2]}\")\n"
   ]
  },
  {
   "cell_type": "code",
   "execution_count": null,
   "id": "3790f353",
   "metadata": {},
   "outputs": [],
   "source": [
    "Var.#2"
   ]
  },
  {
   "cell_type": "code",
   "execution_count": 31,
   "id": "c210a478",
   "metadata": {
    "scrolled": false
   },
   "outputs": [
    {
     "name": "stdout",
     "output_type": "stream",
     "text": [
      "Салат:\n",
      "картофель, 500гр.\n",
      "морковь, 250гр.\n",
      "огурцы, 250гр.\n",
      "горошек, 150гр.\n",
      "майонез, 350мл.\n",
      "\n",
      "\n",
      "Пицца:\n",
      "сыр, 250гр.\n",
      "томаты, 250гр.\n",
      "тесто, 500гр.\n",
      "бекон, 150гр.\n",
      "колбаса, 150гр.\n",
      "грибы, 100гр.\n",
      "\n",
      "\n",
      "Фруктовый десерт:\n",
      "хурма, 300гр.\n",
      "киви, 300гр.\n",
      "творог, 300гр.\n",
      "сахар, 50гр.\n",
      "мед, 250мл.\n"
     ]
    }
   ],
   "source": [
    "salad = cook_book[0][0]\n",
    "print(salad.capitalize(), end=':\\n')\n",
    "for ingredient, weight, unit in cook_book[0][1]:\n",
    "    print(f\"{ingredient}{','} {weight * person}{''}{unit}\")\n",
    "print('\\n')\n",
    "    \n",
    "\n",
    "pizza = cook_book[1][0]\n",
    "print(pizza.capitalize(), end=':\\n')\n",
    "for ingredient, weight, unit in cook_book[1][1]:\n",
    "    print(f\"{ingredient}{','} {weight * person}{''}{unit}\")\n",
    "print('\\n')\n",
    "\n",
    "\n",
    "fruitsalad = cook_book[2][0]\n",
    "print(fruitsalad.capitalize(), end=':\\n')\n",
    "for ingredient, weight, unit in cook_book[2][1]:\n",
    "    print(f\"{ingredient}{','} {weight * person}{''}{unit}\")"
   ]
  },
  {
   "cell_type": "code",
   "execution_count": null,
   "id": "7a0487c3",
   "metadata": {},
   "outputs": [],
   "source": [
    "Var.#3"
   ]
  },
  {
   "cell_type": "code",
   "execution_count": 30,
   "id": "77cb7ae6",
   "metadata": {
    "scrolled": true
   },
   "outputs": [
    {
     "name": "stdout",
     "output_type": "stream",
     "text": [
      "картофель, 500гр.\n",
      "морковь, 250гр.\n",
      "огурцы, 250гр.\n",
      "горошек, 150гр.\n",
      "майонез, 350мл.\n",
      "сыр, 250гр.\n",
      "томаты, 250гр.\n",
      "тесто, 500гр.\n",
      "бекон, 150гр.\n",
      "колбаса, 150гр.\n",
      "грибы, 100гр.\n",
      "хурма, 300гр.\n",
      "киви, 300гр.\n",
      "творог, 300гр.\n",
      "сахар, 50гр.\n",
      "мед, 250мл.\n"
     ]
    }
   ],
   "source": [
    "for meal in cook_book:\n",
    "     for cooks_element in meal[1]:\n",
    "        ingr, weight, units = cooks_element\n",
    "        print(f\"{ingr}{','} {weight * person}{units}\")"
   ]
  }
 ],
 "metadata": {
  "kernelspec": {
   "display_name": "Python 3 (ipykernel)",
   "language": "python",
   "name": "python3"
  },
  "language_info": {
   "codemirror_mode": {
    "name": "ipython",
    "version": 3
   },
   "file_extension": ".py",
   "mimetype": "text/x-python",
   "name": "python",
   "nbconvert_exporter": "python",
   "pygments_lexer": "ipython3",
   "version": "3.9.16"
  }
 },
 "nbformat": 4,
 "nbformat_minor": 5
}
