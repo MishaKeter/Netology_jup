{
 "cells": [
  {
   "cell_type": "code",
   "execution_count": 11,
   "id": "87b01698",
   "metadata": {},
   "outputs": [
    {
     "name": "stdout",
     "output_type": "stream",
     "text": [
      "\n",
      "0 1 1 2 3 5 8 13 21 34 55 89 144 233 377 610 987 1597 2584 4181 6765 10946 17711 28657 46368 75025 "
     ]
    }
   ],
   "source": [
    "# Python 3: Fibonacci series up to n\n",
    "def fib(n):\n",
    "    a, b = 0, 1\n",
    "    while a < n:\n",
    "        print(a, end=' ')\n",
    "        a, b = b, a+b\n",
    "    \n",
    "print()\n",
    "fib(100000)"
   ]
  },
  {
   "cell_type": "markdown",
   "id": "3ec914d4",
   "metadata": {},
   "source": [
    "# Some big changes!!!"
   ]
  },
  {
   "cell_type": "code",
   "execution_count": 1,
   "id": "860b036d",
   "metadata": {},
   "outputs": [
    {
     "name": "stdout",
     "output_type": "stream",
     "text": [
      "Hello, World!\n"
     ]
    }
   ],
   "source": [
    "print('Hello, World!')"
   ]
  },
  {
   "cell_type": "code",
   "execution_count": 13,
   "id": "d40224df",
   "metadata": {},
   "outputs": [
    {
     "name": "stdout",
     "output_type": "stream",
     "text": [
      "The product is: 384\n"
     ]
    }
   ],
   "source": [
    "# For loop on a list\n",
    "numbers = [2, 4, 6, 8]\n",
    "product = 1\n",
    "for number in numbers:\n",
    "    product = product * number\n",
    " \n",
    "print('The product is:', product)"
   ]
  },
  {
   "cell_type": "code",
   "execution_count": null,
   "id": "08de62d5",
   "metadata": {},
   "outputs": [],
   "source": []
  }
 ],
 "metadata": {
  "kernelspec": {
   "display_name": "Python 3 (ipykernel)",
   "language": "python",
   "name": "python3"
  },
  "language_info": {
   "codemirror_mode": {
    "name": "ipython",
    "version": 3
   },
   "file_extension": ".py",
   "mimetype": "text/x-python",
   "name": "python",
   "nbconvert_exporter": "python",
   "pygments_lexer": "ipython3",
   "version": "3.9.16"
  }
 },
 "nbformat": 4,
 "nbformat_minor": 5
}
